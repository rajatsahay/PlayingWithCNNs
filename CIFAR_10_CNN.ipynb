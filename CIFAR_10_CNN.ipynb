{
  "nbformat": 4,
  "nbformat_minor": 0,
  "metadata": {
    "colab": {
      "name": "CIFAR-10_CNN",
      "version": "0.3.2",
      "provenance": [],
      "collapsed_sections": []
    },
    "kernelspec": {
      "name": "python3",
      "display_name": "Python 3"
    }
  },
  "cells": [
    {
      "cell_type": "code",
      "metadata": {
        "id": "WqFOqK6opdf4",
        "colab_type": "code",
        "outputId": "613349da-4c51-42b5-b412-b32076b19113",
        "colab": {
          "base_uri": "https://localhost:8080/",
          "height": 34
        }
      },
      "source": [
        "import keras\n",
        "from keras.datasets import cifar10\n",
        "from keras.preprocessing.image import ImageDataGenerator\n",
        "from keras.models import Sequential\n",
        "from keras.layers import Dense,Dropout,Activation,Flatten\n",
        "from keras.layers import MaxPooling2D,Conv2D\n"
      ],
      "execution_count": 0,
      "outputs": [
        {
          "output_type": "stream",
          "text": [
            "Using TensorFlow backend.\n"
          ],
          "name": "stderr"
        }
      ]
    },
    {
      "cell_type": "code",
      "metadata": {
        "id": "PxHpmhcHqCsX",
        "colab_type": "code",
        "outputId": "b7d57b1a-e154-4ce7-bc29-ee6291d75372",
        "colab": {
          "base_uri": "https://localhost:8080/",
          "height": 51
        }
      },
      "source": [
        "(train_X,train_Y),(test_X,test_Y)=cifar10.load_data()"
      ],
      "execution_count": 0,
      "outputs": [
        {
          "output_type": "stream",
          "text": [
            "Downloading data from https://www.cs.toronto.edu/~kriz/cifar-10-python.tar.gz\n",
            "170500096/170498071 [==============================] - 2s 0us/step\n"
          ],
          "name": "stdout"
        }
      ]
    },
    {
      "cell_type": "code",
      "metadata": {
        "id": "AwQt13DHqY6N",
        "colab_type": "code",
        "outputId": "4c349b2a-a8b9-4b4d-b424-c5bb603a38c8",
        "colab": {
          "base_uri": "https://localhost:8080/",
          "height": 34
        }
      },
      "source": [
        "#display the first samples from training and testing data\n",
        "print(train_X.shape,train_Y.shape,test_X.shape,test_Y.shape)"
      ],
      "execution_count": 0,
      "outputs": [
        {
          "output_type": "stream",
          "text": [
            "(50000, 32, 32, 3) (50000, 1) (10000, 32, 32, 3) (10000, 1)\n"
          ],
          "name": "stdout"
        }
      ]
    },
    {
      "cell_type": "code",
      "metadata": {
        "id": "_DrrbAiNrAHu",
        "colab_type": "code",
        "outputId": "6905c1ef-ed8e-420a-cb71-dcfc31a3c5c4",
        "colab": {
          "base_uri": "https://localhost:8080/",
          "height": 208
        }
      },
      "source": [
        "import matplotlib.pyplot as plt\n",
        "%matplotlib inline\n",
        "\n",
        "plt.figure(figsize=[5,5])\n",
        "#first img in training data\n",
        "plt.subplot(121)\n",
        "plt.imshow(train_X[0,:,:])\n",
        "plt.title('Ground Truth: {}'.format(train_Y[0]))\n",
        "\n",
        "#first img in testing data\n",
        "plt.subplot(122)\n",
        "plt.imshow(test_X[0,:,:])\n",
        "plt.title('Ground Truth: {}'.format(test_Y[0]))"
      ],
      "execution_count": 0,
      "outputs": [
        {
          "output_type": "execute_result",
          "data": {
            "text/plain": [
              "Text(0.5, 1.0, 'Ground Truth: [3]')"
            ]
          },
          "metadata": {
            "tags": []
          },
          "execution_count": 4
        },
        {
          "output_type": "display_data",
          "data": {
            "image/png": "[encoded data removed]",
            "text/plain": [
              "<Figure size 360x360 with 2 Axes>"
            ]
          },
          "metadata": {
            "tags": []
          }
        }
      ]
    },
    {
      "cell_type": "code",
      "metadata": {
        "id": "l52u-XjArIKI",
        "colab_type": "code",
        "colab": {}
      },
      "source": [
        "#Hyperparameters\n",
        "batch_size=32\n",
        "num_classes=10\n",
        "epochs=100\n",
        "data_augmentation=True\n",
        "num_predictions=20\n"
      ],
      "execution_count": 0,
      "outputs": []
    },
    {
      "cell_type": "code",
      "metadata": {
        "id": "ZlsHlOIjrcsl",
        "colab_type": "code",
        "outputId": "880d80e1-c4a7-4e58-8716-90de0c1f1ff1",
        "colab": {
          "base_uri": "https://localhost:8080/",
          "height": 34
        }
      },
      "source": [
        "#one-hot encoding of labels\n",
        "train_Y_one_hot=keras.utils.to_categorical(train_Y,num_classes)\n",
        "test_Y_one_hot=keras.utils.to_categorical(test_Y,num_classes)\n",
        "train_Y_one_hot.shape,test_Y_one_hot.shape"
      ],
      "execution_count": 0,
      "outputs": [
        {
          "output_type": "execute_result",
          "data": {
            "text/plain": [
              "((50000, 10), (10000, 10))"
            ]
          },
          "metadata": {
            "tags": []
          },
          "execution_count": 6
        }
      ]
    },
    {
      "cell_type": "code",
      "metadata": {
        "id": "yhR6gZMkr97b",
        "colab_type": "code",
        "colab": {}
      },
      "source": [
        "#create validation set\n",
        "from sklearn.model_selection import train_test_split\n",
        "train_X,valid_X,train_label,valid_label=train_test_split(train_X,train_Y_one_hot,test_size=0.2,random_state=13)"
      ],
      "execution_count": 0,
      "outputs": []
    },
    {
      "cell_type": "code",
      "metadata": {
        "id": "8D1iRne2s6oW",
        "colab_type": "code",
        "outputId": "750da771-b75a-4fee-fec3-50aabf8a2f26",
        "colab": {
          "base_uri": "https://localhost:8080/",
          "height": 34
        }
      },
      "source": [
        "train_X.shape,valid_X.shape,train_label.shape,valid_label.shape"
      ],
      "execution_count": 0,
      "outputs": [
        {
          "output_type": "execute_result",
          "data": {
            "text/plain": [
              "((40000, 32, 32, 3), (10000, 32, 32, 3), (40000, 10), (10000, 10))"
            ]
          },
          "metadata": {
            "tags": []
          },
          "execution_count": 8
        }
      ]
    },
    {
      "cell_type": "code",
      "metadata": {
        "id": "38N1hkHStBhE",
        "colab_type": "code",
        "outputId": "4e226f71-0a8a-46ec-8411-8062739bbb9f",
        "colab": {
          "base_uri": "https://localhost:8080/",
          "height": 275
        }
      },
      "source": [
        "#Model\n",
        "model=Sequential()\n",
        "model.add(Conv2D(32,(3,3),padding='same',input_shape=train_X.shape[1:]))\n",
        "model.add(Activation('relu'))\n",
        "model.add(Conv2D(32,(3,3)))\n",
        "model.add(Activation('relu'))\n",
        "model.add(MaxPooling2D(pool_size=(2,2)))\n",
        "model.add(Dropout(0.25))\n",
        "\n",
        "model.add(Conv2D(64,(3,3),padding='same'))\n",
        "model.add(Activation('relu'))\n",
        "model.add(Conv2D(64,(3,3)))\n",
        "model.add(Activation('relu'))\n",
        "model.add(MaxPooling2D(pool_size=(2,2)))\n",
        "model.add(Dropout(0.25))\n",
        "\n",
        "model.add(Flatten())\n",
        "model.add(Dense(512))\n",
        "model.add(Activation('relu'))\n",
        "model.add(Dropout(0.5))\n",
        "model.add(Dense(num_classes))\n",
        "model.add(Activation('softmax'))"
      ],
      "execution_count": 0,
      "outputs": [
        {
          "output_type": "stream",
          "text": [
            "WARNING: Logging before flag parsing goes to stderr.\n",
            "W0802 17:05:59.259898 140169084983168 deprecation_wrapper.py:119] From /usr/local/lib/python3.6/dist-packages/keras/backend/tensorflow_backend.py:74: The name tf.get_default_graph is deprecated. Please use tf.compat.v1.get_default_graph instead.\n",
            "\n",
            "W0802 17:05:59.305190 140169084983168 deprecation_wrapper.py:119] From /usr/local/lib/python3.6/dist-packages/keras/backend/tensorflow_backend.py:517: The name tf.placeholder is deprecated. Please use tf.compat.v1.placeholder instead.\n",
            "\n",
            "W0802 17:05:59.326079 140169084983168 deprecation_wrapper.py:119] From /usr/local/lib/python3.6/dist-packages/keras/backend/tensorflow_backend.py:4138: The name tf.random_uniform is deprecated. Please use tf.random.uniform instead.\n",
            "\n",
            "W0802 17:05:59.400311 140169084983168 deprecation_wrapper.py:119] From /usr/local/lib/python3.6/dist-packages/keras/backend/tensorflow_backend.py:3976: The name tf.nn.max_pool is deprecated. Please use tf.nn.max_pool2d instead.\n",
            "\n",
            "W0802 17:05:59.407142 140169084983168 deprecation_wrapper.py:119] From /usr/local/lib/python3.6/dist-packages/keras/backend/tensorflow_backend.py:133: The name tf.placeholder_with_default is deprecated. Please use tf.compat.v1.placeholder_with_default instead.\n",
            "\n",
            "W0802 17:05:59.420325 140169084983168 deprecation.py:506] From /usr/local/lib/python3.6/dist-packages/keras/backend/tensorflow_backend.py:3445: calling dropout (from tensorflow.python.ops.nn_ops) with keep_prob is deprecated and will be removed in a future version.\n",
            "Instructions for updating:\n",
            "Please use `rate` instead of `keep_prob`. Rate should be set to `rate = 1 - keep_prob`.\n"
          ],
          "name": "stderr"
        }
      ]
    },
    {
      "cell_type": "code",
      "metadata": {
        "id": "MxEib9wothJZ",
        "colab_type": "code",
        "colab": {}
      },
      "source": [
        "#RMSProp Optimizer [TODO: Try with other optimizers (Adam etc) as well]\n",
        "opt=keras.optimizers.rmsprop(lr=0.0001,decay=1e-6)"
      ],
      "execution_count": 0,
      "outputs": []
    },
    {
      "cell_type": "code",
      "metadata": {
        "id": "qoXLZdUwu5_h",
        "colab_type": "code",
        "outputId": "70465985-dccb-472b-c4a8-34f4d79d33f8",
        "colab": {
          "base_uri": "https://localhost:8080/",
          "height": 748
        }
      },
      "source": [
        "model.summary()"
      ],
      "execution_count": 0,
      "outputs": [
        {
          "output_type": "stream",
          "text": [
            "_________________________________________________________________\n",
            "Layer (type)                 Output Shape              Param #   \n",
            "=================================================================\n",
            "conv2d_1 (Conv2D)            (None, 32, 32, 32)        896       \n",
            "_________________________________________________________________\n",
            "activation_1 (Activation)    (None, 32, 32, 32)        0         \n",
            "_________________________________________________________________\n",
            "conv2d_2 (Conv2D)            (None, 30, 30, 32)        9248      \n",
            "_________________________________________________________________\n",
            "activation_2 (Activation)    (None, 30, 30, 32)        0         \n",
            "_________________________________________________________________\n",
            "max_pooling2d_1 (MaxPooling2 (None, 15, 15, 32)        0         \n",
            "_________________________________________________________________\n",
            "dropout_1 (Dropout)          (None, 15, 15, 32)        0         \n",
            "_________________________________________________________________\n",
            "conv2d_3 (Conv2D)            (None, 15, 15, 64)        18496     \n",
            "_________________________________________________________________\n",
            "activation_3 (Activation)    (None, 15, 15, 64)        0         \n",
            "_________________________________________________________________\n",
            "conv2d_4 (Conv2D)            (None, 13, 13, 64)        36928     \n",
            "_________________________________________________________________\n",
            "activation_4 (Activation)    (None, 13, 13, 64)        0         \n",
            "_________________________________________________________________\n",
            "max_pooling2d_2 (MaxPooling2 (None, 6, 6, 64)          0         \n",
            "_________________________________________________________________\n",
            "dropout_2 (Dropout)          (None, 6, 6, 64)          0         \n",
            "_________________________________________________________________\n",
            "flatten_1 (Flatten)          (None, 2304)              0         \n",
            "_________________________________________________________________\n",
            "dense_1 (Dense)              (None, 512)               1180160   \n",
            "_________________________________________________________________\n",
            "activation_5 (Activation)    (None, 512)               0         \n",
            "_________________________________________________________________\n",
            "dropout_3 (Dropout)          (None, 512)               0         \n",
            "_________________________________________________________________\n",
            "dense_2 (Dense)              (None, 10)                5130      \n",
            "_________________________________________________________________\n",
            "activation_6 (Activation)    (None, 10)                0         \n",
            "=================================================================\n",
            "Total params: 1,250,858\n",
            "Trainable params: 1,250,858\n",
            "Non-trainable params: 0\n",
            "_________________________________________________________________\n"
          ],
          "name": "stdout"
        }
      ]
    },
    {
      "cell_type": "code",
      "metadata": {
        "id": "OVaeapHSu7a-",
        "colab_type": "code",
        "colab": {}
      },
      "source": [
        "#Preprocess training data before fitting it in the model\n",
        "train_X=train_X.astype('float32')\n",
        "test_X=test_X.astype('float32')\n",
        "train_X/=255\n",
        "test_X/=255\n",
        "valid_X=valid_X.astype('float32')\n",
        "valid_X/=255"
      ],
      "execution_count": 0,
      "outputs": []
    },
    {
      "cell_type": "code",
      "metadata": {
        "id": "px1zC_WpvvUc",
        "colab_type": "code",
        "outputId": "6755e184-0f76-4e9b-8b7d-019b8666e63a",
        "colab": {
          "base_uri": "https://localhost:8080/",
          "height": 105
        }
      },
      "source": [
        "model.compile(loss='categorical_crossentropy',optimizer=opt,metrics=['accuracy'])"
      ],
      "execution_count": 0,
      "outputs": [
        {
          "output_type": "stream",
          "text": [
            "W0802 17:06:13.134792 140169084983168 deprecation_wrapper.py:119] From /usr/local/lib/python3.6/dist-packages/keras/optimizers.py:790: The name tf.train.Optimizer is deprecated. Please use tf.compat.v1.train.Optimizer instead.\n",
            "\n",
            "W0802 17:06:13.159820 140169084983168 deprecation_wrapper.py:119] From /usr/local/lib/python3.6/dist-packages/keras/backend/tensorflow_backend.py:3295: The name tf.log is deprecated. Please use tf.math.log instead.\n",
            "\n"
          ],
          "name": "stderr"
        }
      ]
    },
    {
      "cell_type": "code",
      "metadata": {
        "id": "VBXNMu0Kv4dF",
        "colab_type": "code",
        "outputId": "3135624d-8438-414f-bfe5-5635bb11077f",
        "colab": {
          "base_uri": "https://localhost:8080/",
          "height": 734
        }
      },
      "source": [
        "import math\n",
        "if not data_augmentation:\n",
        "  print('Not using Data Augmentation')\n",
        "  model.fit(train_X,train_label,batch_size=batch_size,epochs=20,validation_data=(valid_X,valid_labels),shuffle=True)\n",
        "else:\n",
        "  print('Using Real Time Data Augmentation')\n",
        "  #Taken from https://keras.io/examples/cifar10_cnn/\n",
        "  datagen=ImageDataGenerator(\n",
        "  featurewise_center=False,\n",
        "  samplewise_center=False,\n",
        "  featurewise_std_normalization=False,\n",
        "  samplewise_std_normalization=False,\n",
        "  zca_whitening=False,\n",
        "  zca_epsilon=1e-6,\n",
        "  rotation_range=0,\n",
        "  width_shift_range=0.1,\n",
        "  height_shift_range=0.1,\n",
        "  shear_range=0.,\n",
        "  zoom_range=0.,\n",
        "  channel_shift_range=0.,\n",
        "  fill_mode='nearest',\n",
        "  cval=0,\n",
        "  horizontal_flip=True,\n",
        "  vertical_flip=False,\n",
        "  rescale=None,\n",
        "  preprocessing_function=None,\n",
        "  data_format=None,\n",
        "  validation_split=0.8)\n",
        "  \n",
        "  datagen.fit(train_X)\n",
        "  model.fit_generator(datagen.flow(train_X, train_label,\n",
        "                                     batch_size=batch_size),\n",
        "                        epochs=20,\n",
        "                        validation_data=(valid_X, valid_label),workers=4,steps_per_epoch=math.ceil(len(train_X)/batch_size))\n",
        "\n",
        "  "
      ],
      "execution_count": 0,
      "outputs": [
        {
          "output_type": "stream",
          "text": [
            "Using Real Time Data Augmentation\n",
            "Epoch 1/20\n",
            "1250/1250 [==============================] - 235s 188ms/step - loss: 1.8890 - acc: 0.3028 - val_loss: 1.5540 - val_acc: 0.4365\n",
            "Epoch 2/20\n",
            "1250/1250 [==============================] - 237s 189ms/step - loss: 1.6102 - acc: 0.4093 - val_loss: 1.4631 - val_acc: 0.4753\n",
            "Epoch 3/20\n",
            "1250/1250 [==============================] - 236s 189ms/step - loss: 1.4984 - acc: 0.4522 - val_loss: 1.3561 - val_acc: 0.5108\n",
            "Epoch 4/20\n",
            "1250/1250 [==============================] - 234s 187ms/step - loss: 1.4254 - acc: 0.4832 - val_loss: 1.2715 - val_acc: 0.5430\n",
            "Epoch 5/20\n",
            "1250/1250 [==============================] - 233s 186ms/step - loss: 1.3587 - acc: 0.5097 - val_loss: 1.3346 - val_acc: 0.5346\n",
            "Epoch 6/20\n",
            "1250/1250 [==============================] - 234s 187ms/step - loss: 1.3028 - acc: 0.5345 - val_loss: 1.1357 - val_acc: 0.5973\n",
            "Epoch 7/20\n",
            "1250/1250 [==============================] - 238s 190ms/step - loss: 1.2598 - acc: 0.5543 - val_loss: 1.1972 - val_acc: 0.5832\n",
            "Epoch 8/20\n",
            "1250/1250 [==============================] - 239s 191ms/step - loss: 1.2178 - acc: 0.5665 - val_loss: 1.0701 - val_acc: 0.6230\n",
            "Epoch 9/20\n",
            "1250/1250 [==============================] - 239s 191ms/step - loss: 1.1811 - acc: 0.5790 - val_loss: 1.1037 - val_acc: 0.6115\n",
            "Epoch 10/20\n",
            "1250/1250 [==============================] - 239s 191ms/step - loss: 1.1504 - acc: 0.5935 - val_loss: 1.0723 - val_acc: 0.6288\n",
            "Epoch 11/20\n",
            "1250/1250 [==============================] - 238s 191ms/step - loss: 1.1228 - acc: 0.6023 - val_loss: 0.9852 - val_acc: 0.6463\n",
            "Epoch 12/20\n",
            "1250/1250 [==============================] - 237s 190ms/step - loss: 1.1039 - acc: 0.6105 - val_loss: 0.9488 - val_acc: 0.6671\n",
            "Epoch 13/20\n",
            "1250/1250 [==============================] - 240s 192ms/step - loss: 1.0816 - acc: 0.6181 - val_loss: 0.9533 - val_acc: 0.6614\n",
            "Epoch 14/20\n",
            "1250/1250 [==============================] - 236s 189ms/step - loss: 1.0561 - acc: 0.6267 - val_loss: 0.9356 - val_acc: 0.6696\n",
            "Epoch 15/20\n",
            "1250/1250 [==============================] - 236s 188ms/step - loss: 1.0479 - acc: 0.6337 - val_loss: 0.8872 - val_acc: 0.6899\n",
            "Epoch 16/20\n",
            "1250/1250 [==============================] - 235s 188ms/step - loss: 1.0306 - acc: 0.6360 - val_loss: 0.9371 - val_acc: 0.6704\n",
            "Epoch 17/20\n",
            "1250/1250 [==============================] - 237s 190ms/step - loss: 1.0180 - acc: 0.6430 - val_loss: 1.0314 - val_acc: 0.6550\n",
            "Epoch 18/20\n",
            "1250/1250 [==============================] - 237s 189ms/step - loss: 1.0114 - acc: 0.6451 - val_loss: 0.9552 - val_acc: 0.6742\n",
            "Epoch 19/20\n",
            "1250/1250 [==============================] - 237s 190ms/step - loss: 0.9948 - acc: 0.6516 - val_loss: 0.8686 - val_acc: 0.6945\n",
            "Epoch 20/20\n",
            "1250/1250 [==============================] - 235s 188ms/step - loss: 0.9849 - acc: 0.6543 - val_loss: 0.8819 - val_acc: 0.6867\n"
          ],
          "name": "stdout"
        }
      ]
    },
    {
      "cell_type": "code",
      "metadata": {
        "id": "BxrU0xByyJAE",
        "colab_type": "code",
        "colab": {}
      },
      "source": [
        "model.save('cifarCNN.h5py')"
      ],
      "execution_count": 0,
      "outputs": []
    },
    {
      "cell_type": "code",
      "metadata": {
        "id": "wBqev1L6vB59",
        "colab_type": "code",
        "outputId": "c22847db-1289-435f-b2b0-e2c0abddfcf7",
        "colab": {
          "base_uri": "https://localhost:8080/",
          "height": 34
        }
      },
      "source": [
        "test_eval=model.evaluate(test_X,test_Y_one_hot,verbose=1)"
      ],
      "execution_count": 0,
      "outputs": [
        {
          "output_type": "stream",
          "text": [
            "10000/10000 [==============================] - 13s 1ms/step\n"
          ],
          "name": "stdout"
        }
      ]
    },
    {
      "cell_type": "code",
      "metadata": {
        "id": "p7n02PaevX5M",
        "colab_type": "code",
        "outputId": "617a6523-f13a-4f7c-80cd-39f8785ca2bc",
        "colab": {
          "base_uri": "https://localhost:8080/",
          "height": 51
        }
      },
      "source": [
        "print('Test Loss: ',test_eval[0])\n",
        "print('Test Accuracy: ',test_eval[1])"
      ],
      "execution_count": 0,
      "outputs": [
        {
          "output_type": "stream",
          "text": [
            "Test Loss:  0.885490220451355\n",
            "Test Accuracy:  0.6905\n"
          ],
          "name": "stdout"
        }
      ]
    },
    {
      "cell_type": "code",
      "metadata": {
        "id": "ijEaQ9SFvjoD",
        "colab_type": "code",
        "outputId": "023dbc30-09f3-40c8-c4cb-da3d6a141302",
        "colab": {
          "base_uri": "https://localhost:8080/",
          "height": 545
        }
      },
      "source": [
        "#The accuracy is seen to improve with increasing the number of epochs. The model still underfits though (I think)\n",
        "#Graphical Representation\n",
        "accuracy=model.history.history['acc']\n",
        "val_accuracy=model.history.history['val_acc']\n",
        "loss=model.history.history['loss']\n",
        "val_loss=model.history.history['val_loss']\n",
        "epochs=range(len(accuracy))\n",
        "plt.plot(epochs,accuracy,'bo',label='Training Accuracy')\n",
        "plt.plot(epochs,val_accuracy,'b',label='Validation Accuracy')\n",
        "plt.title('Training and Validation Accuracy')\n",
        "plt.legend()\n",
        "plt.figure()\n",
        "plt.plot(epochs,loss,'bo',label='Training Loss')\n",
        "plt.plot(epochs,val_loss,'b',label='Validation Loss')\n",
        "plt.title('Training and Validation Loss')\n",
        "plt.legend()\n",
        "plt.show()\n",
        "\n",
        "#Note: Lines [3-6] show ' '.history.history because of the following error when \n",
        "#putting only one .history: Python: Neural Network - TypeError: 'History' object is not subscriptable\n",
        "\n",
        "#We can also see from the graph that the model is slightly undefitting. Increasing number of epochs should rectify this"
      ],
      "execution_count": 0,
      "outputs": [
        {
          "output_type": "display_data",
          "data": {
            "image/png": "[encoded data removed]",
            "text/plain": [
              "<Figure size 432x288 with 1 Axes>"
            ]
          },
          "metadata": {
            "tags": []
          }
        },
        {
          "output_type": "display_data",
          "data": {
            "image/png": "[encoded data removed]",
            "text/plain": [
              "<Figure size 432x288 with 1 Axes>"
            ]
          },
          "metadata": {
            "tags": []
          }
        }
      ]
    },
    {
      "cell_type": "code",
      "metadata": {
        "id": "od-WGjCCwy0d",
        "colab_type": "code",
        "outputId": "6ece28b1-1a14-4153-91b1-5d8d1a788dc4",
        "colab": {
          "base_uri": "https://localhost:8080/",
          "height": 34
        }
      },
      "source": [
        "#Predicting Labels\n",
        "import numpy as np\n",
        "predicted_classes=model.predict(test_X)\n",
        "predicted_classes=np.argmax(np.round(predicted_classes),axis=1)\n",
        "predicted_classes.shape,test_Y.shape"
      ],
      "execution_count": 0,
      "outputs": [
        {
          "output_type": "execute_result",
          "data": {
            "text/plain": [
              "((10000,), (10000, 1))"
            ]
          },
          "metadata": {
            "tags": []
          },
          "execution_count": 30
        }
      ]
    },
    {
      "cell_type": "code",
      "metadata": {
        "id": "-3z7gZpKyPRD",
        "colab_type": "code",
        "outputId": "7e4f133b-53e6-4cc3-d08a-ca3c6f3ef12c",
        "colab": {
          "base_uri": "https://localhost:8080/",
          "height": 306
        }
      },
      "source": [
        "from sklearn.metrics import classification_report\n",
        "\n",
        "target_names=['Class {}'.format(i) for i in range(num_classes)]\n",
        "print(classification_report(test_Y,predicted_classes,target_names=target_names))"
      ],
      "execution_count": 0,
      "outputs": [
        {
          "output_type": "stream",
          "text": [
            "              precision    recall  f1-score   support\n",
            "\n",
            "     Class 0       0.24      0.89      0.38      1000\n",
            "     Class 1       0.87      0.82      0.84      1000\n",
            "     Class 2       0.91      0.21      0.34      1000\n",
            "     Class 3       0.78      0.12      0.21      1000\n",
            "     Class 4       0.78      0.40      0.52      1000\n",
            "     Class 5       0.75      0.38      0.50      1000\n",
            "     Class 6       0.69      0.81      0.74      1000\n",
            "     Class 7       0.80      0.72      0.76      1000\n",
            "     Class 8       0.93      0.69      0.79      1000\n",
            "     Class 9       0.77      0.85      0.81      1000\n",
            "\n",
            "    accuracy                           0.59     10000\n",
            "   macro avg       0.75      0.59      0.59     10000\n",
            "weighted avg       0.75      0.59      0.59     10000\n",
            "\n"
          ],
          "name": "stdout"
        }
      ]
    }
  ]
}
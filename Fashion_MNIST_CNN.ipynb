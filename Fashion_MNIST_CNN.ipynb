{
  "nbformat": 4,
  "nbformat_minor": 0,
  "metadata": {
    "colab": {
      "name": "Fashion_MNIST_CNN",
      "version": "0.3.2",
      "provenance": [],
      "collapsed_sections": []
    },
    "kernelspec": {
      "name": "python3",
      "display_name": "Python 3"
    }
  },
  "cells": [
    {
      "cell_type": "code",
      "metadata": {
        "id": "LRL7O1zZNaYJ",
        "colab_type": "code",
        "outputId": "3d6beb19-4d39-4dba-98e1-66f9a79fc645",
        "colab": {
          "base_uri": "https://localhost:8080/",
          "height": 170
        }
      },
      "source": [
        "from keras.datasets import fashion_mnist\n",
        "(train_X,train_Y),(test_X,test_Y)=fashion_mnist.load_data()"
      ],
      "execution_count": 2,
      "outputs": [
        {
          "output_type": "stream",
          "text": [
            "Using TensorFlow backend.\n"
          ],
          "name": "stderr"
        },
        {
          "output_type": "stream",
          "text": [
            "Downloading data from http://fashion-mnist.s3-website.eu-central-1.amazonaws.com/train-labels-idx1-ubyte.gz\n",
            "32768/29515 [=================================] - 0s 3us/step\n",
            "Downloading data from http://fashion-mnist.s3-website.eu-central-1.amazonaws.com/train-images-idx3-ubyte.gz\n",
            "26427392/26421880 [==============================] - 2s 0us/step\n",
            "Downloading data from http://fashion-mnist.s3-website.eu-central-1.amazonaws.com/t10k-labels-idx1-ubyte.gz\n",
            "8192/5148 [===============================================] - 0s 0us/step\n",
            "Downloading data from http://fashion-mnist.s3-website.eu-central-1.amazonaws.com/t10k-images-idx3-ubyte.gz\n",
            "4423680/4422102 [==============================] - 1s 0us/step\n"
          ],
          "name": "stdout"
        }
      ]
    },
    {
      "cell_type": "code",
      "metadata": {
        "id": "nfD37q94N5Iu",
        "colab_type": "code",
        "outputId": "91903873-40d3-4035-fef5-77ac60022d39",
        "colab": {
          "base_uri": "https://localhost:8080/",
          "height": 51
        }
      },
      "source": [
        "import numpy as np\n",
        "from keras.utils import to_categorical\n",
        "import matplotlib.pyplot as plt\n",
        "%matplotlib inline\n",
        "\n",
        "print('Training Data Shape: ',train_X.shape,train_Y.shape)\n",
        "print('Testing Data Shape: ',test_X.shape,test_Y.shape)"
      ],
      "execution_count": 3,
      "outputs": [
        {
          "output_type": "stream",
          "text": [
            "Training Data Shape:  (60000, 28, 28) (60000,)\n",
            "Testing Data Shape:  (10000, 28, 28) (10000,)\n"
          ],
          "name": "stdout"
        }
      ]
    },
    {
      "cell_type": "code",
      "metadata": {
        "id": "x3Ef6Or6OgPk",
        "colab_type": "code",
        "outputId": "dd8dba36-0ed8-4adc-a115-54b1534c55d5",
        "colab": {
          "base_uri": "https://localhost:8080/",
          "height": 51
        }
      },
      "source": [
        "#Unique numbers from train labels\n",
        "classes=np.unique(train_Y)\n",
        "nClasses=len(classes)\n",
        "print('Total Outputs:',nClasses)\n",
        "print('Output Classes:',classes)"
      ],
      "execution_count": 4,
      "outputs": [
        {
          "output_type": "stream",
          "text": [
            "Total Outputs: 10\n",
            "Output Classes: [0 1 2 3 4 5 6 7 8 9]\n"
          ],
          "name": "stdout"
        }
      ]
    },
    {
      "cell_type": "code",
      "metadata": {
        "id": "o97iDygqPNwb",
        "colab_type": "code",
        "outputId": "6ddc0f02-ffa3-48b3-8283-4790be0e97b0",
        "colab": {
          "base_uri": "https://localhost:8080/",
          "height": 208
        }
      },
      "source": [
        "plt.figure(figsize=[5,5])\n",
        "#first img in training data\n",
        "plt.subplot(121)\n",
        "plt.imshow(train_X[0,:,:])\n",
        "plt.title('Ground Truth: {}'.format(train_Y[0]))\n",
        "\n",
        "#first img in testing data\n",
        "plt.subplot(122)\n",
        "plt.imshow(test_X[0,:,:])\n",
        "plt.title('Ground Truth: {}'.format(test_Y[0]))"
      ],
      "execution_count": 5,
      "outputs": [
        {
          "output_type": "execute_result",
          "data": {
            "text/plain": [
              "Text(0.5, 1.0, 'Ground Truth: 9')"
            ]
          },
          "metadata": {
            "tags": []
          },
          "execution_count": 5
        },
        {
          "output_type": "display_data",
          "data": {
            "image/png": "[encoded data removed]",
            "text/plain": [
              "<Figure size 360x360 with 2 Axes>"
            ]
          },
          "metadata": {
            "tags": []
          }
        }
      ]
    },
    {
      "cell_type": "code",
      "metadata": {
        "id": "NUwoqbg9Pnu5",
        "colab_type": "code",
        "outputId": "b25f67d4-1321-4f69-e7f7-a3eaea6d42fa",
        "colab": {
          "base_uri": "https://localhost:8080/",
          "height": 85
        }
      },
      "source": [
        "#Data Preprocessing\n",
        "\n",
        "#INPUT: [28x28x1]\n",
        "train_X=np.asarray(train_X)\n",
        "test_X=np.asarray(test_X)\n",
        "train_Y=np.asarray(train_Y)\n",
        "test_Y=np.asarray(test_Y)\n",
        "\n",
        "train_X=train_X.reshape(-1,28,28,1)\n",
        "test_X=test_X.reshape(-1,28,28,1)\n",
        "print('X Shapes:',train_X.shape,test_X.shape)\n",
        "\n",
        "#int8 -> float32\n",
        "train_X=train_X.astype('float32')\n",
        "test_X=test_X.astype('float32')\n",
        "train_X=train_X/255\n",
        "test_X=test_X/255\n",
        "\n",
        "#One-Hot Encoding Vectors\n",
        "train_Y_one_hot=to_categorical(train_Y)\n",
        "test_Y_one_hot=to_categorical(test_Y)\n",
        "\n",
        "print('Original label: ',train_Y[0])\n",
        "print('After one-hot encoding: ',train_Y_one_hot[0])\n",
        "print('Encoding vector shape: ',train_Y_one_hot.shape)"
      ],
      "execution_count": 6,
      "outputs": [
        {
          "output_type": "stream",
          "text": [
            "X Shapes: (60000, 28, 28, 1) (10000, 28, 28, 1)\n",
            "Original label:  9\n",
            "After one-hot encoding:  [0. 0. 0. 0. 0. 0. 0. 0. 0. 1.]\n",
            "Encoding vector shape:  (60000, 10)\n"
          ],
          "name": "stdout"
        }
      ]
    },
    {
      "cell_type": "code",
      "metadata": {
        "id": "j77rp8ioQd8I",
        "colab_type": "code",
        "colab": {}
      },
      "source": [
        "from sklearn.model_selection import train_test_split\n",
        "train_X,valid_X,train_label,valid_label = train_test_split(train_X, train_Y_one_hot, test_size=0.2, random_state=13)\n"
      ],
      "execution_count": 0,
      "outputs": []
    },
    {
      "cell_type": "code",
      "metadata": {
        "id": "sUmzP326Uxkg",
        "colab_type": "code",
        "outputId": "d1998016-3ccb-4bbc-bfba-488bac13851d",
        "colab": {
          "base_uri": "https://localhost:8080/",
          "height": 34
        }
      },
      "source": [
        "train_X.shape,valid_X.shape,train_label.shape,valid_label.shape"
      ],
      "execution_count": 8,
      "outputs": [
        {
          "output_type": "execute_result",
          "data": {
            "text/plain": [
              "((48000, 28, 28, 1), (12000, 28, 28, 1), (48000, 10), (12000, 10))"
            ]
          },
          "metadata": {
            "tags": []
          },
          "execution_count": 8
        }
      ]
    },
    {
      "cell_type": "code",
      "metadata": {
        "id": "UAFv0wtZU-n9",
        "colab_type": "code",
        "colab": {
          "base_uri": "https://localhost:8080/",
          "height": 190
        },
        "outputId": "9f3de48f-9b3c-4a81-b57f-d1eb57acd562"
      },
      "source": [
        "'''\n",
        "ConvNet Architecture\n",
        "\n",
        "INPUT [28X28X1]\n",
        "CONV3-32\n",
        "MAX_POOL2\n",
        "CONV3-64\n",
        "MAX_POOL2\n",
        "CONV3-128\n",
        "MAX_POOL2\n",
        "FLATTEN\n",
        "DENSE (FC)\n",
        "OUTPUT [10]\n",
        "'''\n",
        "\n",
        "import keras\n",
        "from keras.models import Sequential,Input,Model\n",
        "from keras.layers import Dense,Dropout,Flatten,Conv2D,MaxPooling2D\n",
        "from keras.layers.normalization import BatchNormalization\n",
        "from keras.layers.advanced_activations import LeakyReLU\n",
        "\n",
        "batch_size=64 #TODO: Test with 128,256\n",
        "epochs=20\n",
        "num_classes=10\n",
        "\n",
        "fashion_model=Sequential()\n",
        "fashion_model.add(Conv2D(32,kernel_size=(3,3),activation='linear',input_shape=(28,28,1),padding='same'))\n",
        "fashion_model.add(LeakyReLU(alpha=0.1))\n",
        "fashion_model.add(MaxPooling2D((2,2),padding='same'))\n",
        "fashion_model.add(Conv2D(64,(3,3),activation='linear',padding='same'))\n",
        "fashion_model.add(LeakyReLU(alpha=0.1))\n",
        "fashion_model.add(MaxPooling2D(pool_size=(2,2),padding='same'))\n",
        "fashion_model.add(Conv2D(128,(3,3),activation='linear',padding='same'))\n",
        "fashion_model.add(LeakyReLU(alpha=0.1))\n",
        "fashion_model.add(MaxPooling2D(pool_size=(2,2),padding='same'))\n",
        "fashion_model.add(Flatten())\n",
        "fashion_model.add(Dense(128,activation='linear'))\n",
        "fashion_model.add(LeakyReLU(alpha=0.1))\n",
        "fashion_model.add(Dense(num_classes,activation='softmax'))"
      ],
      "execution_count": 9,
      "outputs": [
        {
          "output_type": "stream",
          "text": [
            "WARNING: Logging before flag parsing goes to stderr.\n",
            "W0802 06:35:56.343173 139691651286912 deprecation_wrapper.py:119] From /usr/local/lib/python3.6/dist-packages/keras/backend/tensorflow_backend.py:74: The name tf.get_default_graph is deprecated. Please use tf.compat.v1.get_default_graph instead.\n",
            "\n",
            "W0802 06:35:56.389797 139691651286912 deprecation_wrapper.py:119] From /usr/local/lib/python3.6/dist-packages/keras/backend/tensorflow_backend.py:517: The name tf.placeholder is deprecated. Please use tf.compat.v1.placeholder instead.\n",
            "\n",
            "W0802 06:35:56.399822 139691651286912 deprecation_wrapper.py:119] From /usr/local/lib/python3.6/dist-packages/keras/backend/tensorflow_backend.py:4138: The name tf.random_uniform is deprecated. Please use tf.random.uniform instead.\n",
            "\n",
            "W0802 06:35:56.447772 139691651286912 deprecation_wrapper.py:119] From /usr/local/lib/python3.6/dist-packages/keras/backend/tensorflow_backend.py:3976: The name tf.nn.max_pool is deprecated. Please use tf.nn.max_pool2d instead.\n",
            "\n"
          ],
          "name": "stderr"
        }
      ]
    },
    {
      "cell_type": "code",
      "metadata": {
        "id": "CzP5apJNWLFa",
        "colab_type": "code",
        "colab": {
          "base_uri": "https://localhost:8080/",
          "height": 105
        },
        "outputId": "42114d6c-015f-4b9d-f3e4-7d879e6f11c7"
      },
      "source": [
        "fashion_model.compile(loss=keras.losses.categorical_crossentropy,optimizer=keras.optimizers.Adam(),metrics=['accuracy'])"
      ],
      "execution_count": 10,
      "outputs": [
        {
          "output_type": "stream",
          "text": [
            "W0802 06:36:00.702302 139691651286912 deprecation_wrapper.py:119] From /usr/local/lib/python3.6/dist-packages/keras/optimizers.py:790: The name tf.train.Optimizer is deprecated. Please use tf.compat.v1.train.Optimizer instead.\n",
            "\n",
            "W0802 06:36:00.715368 139691651286912 deprecation_wrapper.py:119] From /usr/local/lib/python3.6/dist-packages/keras/backend/tensorflow_backend.py:3295: The name tf.log is deprecated. Please use tf.math.log instead.\n",
            "\n"
          ],
          "name": "stderr"
        }
      ]
    },
    {
      "cell_type": "code",
      "metadata": {
        "id": "xU0VeT3pYLxl",
        "colab_type": "code",
        "outputId": "748871f5-76fe-474e-cfad-d0bfb396187c",
        "colab": {
          "base_uri": "https://localhost:8080/",
          "height": 578
        }
      },
      "source": [
        "fashion_model.summary()"
      ],
      "execution_count": 11,
      "outputs": [
        {
          "output_type": "stream",
          "text": [
            "_________________________________________________________________\n",
            "Layer (type)                 Output Shape              Param #   \n",
            "=================================================================\n",
            "conv2d_1 (Conv2D)            (None, 28, 28, 32)        320       \n",
            "_________________________________________________________________\n",
            "leaky_re_lu_1 (LeakyReLU)    (None, 28, 28, 32)        0         \n",
            "_________________________________________________________________\n",
            "max_pooling2d_1 (MaxPooling2 (None, 14, 14, 32)        0         \n",
            "_________________________________________________________________\n",
            "conv2d_2 (Conv2D)            (None, 14, 14, 64)        18496     \n",
            "_________________________________________________________________\n",
            "leaky_re_lu_2 (LeakyReLU)    (None, 14, 14, 64)        0         \n",
            "_________________________________________________________________\n",
            "max_pooling2d_2 (MaxPooling2 (None, 7, 7, 64)          0         \n",
            "_________________________________________________________________\n",
            "conv2d_3 (Conv2D)            (None, 7, 7, 128)         73856     \n",
            "_________________________________________________________________\n",
            "leaky_re_lu_3 (LeakyReLU)    (None, 7, 7, 128)         0         \n",
            "_________________________________________________________________\n",
            "max_pooling2d_3 (MaxPooling2 (None, 4, 4, 128)         0         \n",
            "_________________________________________________________________\n",
            "flatten_1 (Flatten)          (None, 2048)              0         \n",
            "_________________________________________________________________\n",
            "dense_1 (Dense)              (None, 128)               262272    \n",
            "_________________________________________________________________\n",
            "leaky_re_lu_4 (LeakyReLU)    (None, 128)               0         \n",
            "_________________________________________________________________\n",
            "dense_2 (Dense)              (None, 10)                1290      \n",
            "=================================================================\n",
            "Total params: 356,234\n",
            "Trainable params: 356,234\n",
            "Non-trainable params: 0\n",
            "_________________________________________________________________\n"
          ],
          "name": "stdout"
        }
      ]
    },
    {
      "cell_type": "code",
      "metadata": {
        "id": "qUxNrmULYUoj",
        "colab_type": "code",
        "outputId": "2ade36ea-5b91-41d2-fa4b-473afc11d837",
        "colab": {
          "base_uri": "https://localhost:8080/",
          "height": 714
        }
      },
      "source": [
        "fashion_train=fashion_model.fit(train_X,train_label,batch_size=batch_size,epochs=epochs,verbose=1,validation_data=(valid_X,valid_label))"
      ],
      "execution_count": 13,
      "outputs": [
        {
          "output_type": "stream",
          "text": [
            "Train on 48000 samples, validate on 12000 samples\n",
            "Epoch 1/20\n",
            "48000/48000 [==============================] - 86s 2ms/step - loss: 0.2886 - acc: 0.8955 - val_loss: 0.2851 - val_acc: 0.8950\n",
            "Epoch 2/20\n",
            "48000/48000 [==============================] - 86s 2ms/step - loss: 0.2390 - acc: 0.9123 - val_loss: 0.2630 - val_acc: 0.9055\n",
            "Epoch 3/20\n",
            "48000/48000 [==============================] - 85s 2ms/step - loss: 0.2092 - acc: 0.9233 - val_loss: 0.2409 - val_acc: 0.9117\n",
            "Epoch 4/20\n",
            "48000/48000 [==============================] - 87s 2ms/step - loss: 0.1810 - acc: 0.9316 - val_loss: 0.2423 - val_acc: 0.9128\n",
            "Epoch 5/20\n",
            "48000/48000 [==============================] - 87s 2ms/step - loss: 0.1604 - acc: 0.9398 - val_loss: 0.2359 - val_acc: 0.9177\n",
            "Epoch 6/20\n",
            "48000/48000 [==============================] - 87s 2ms/step - loss: 0.1358 - acc: 0.9497 - val_loss: 0.2286 - val_acc: 0.9212\n",
            "Epoch 7/20\n",
            "48000/48000 [==============================] - 88s 2ms/step - loss: 0.1165 - acc: 0.9559 - val_loss: 0.2345 - val_acc: 0.9208\n",
            "Epoch 8/20\n",
            "48000/48000 [==============================] - 88s 2ms/step - loss: 0.1019 - acc: 0.9616 - val_loss: 0.2467 - val_acc: 0.9229\n",
            "Epoch 9/20\n",
            "48000/48000 [==============================] - 87s 2ms/step - loss: 0.0856 - acc: 0.9681 - val_loss: 0.2975 - val_acc: 0.9157\n",
            "Epoch 10/20\n",
            "48000/48000 [==============================] - 86s 2ms/step - loss: 0.0715 - acc: 0.9731 - val_loss: 0.3277 - val_acc: 0.9146\n",
            "Epoch 11/20\n",
            "48000/48000 [==============================] - 87s 2ms/step - loss: 0.0623 - acc: 0.9773 - val_loss: 0.3436 - val_acc: 0.9188\n",
            "Epoch 12/20\n",
            "48000/48000 [==============================] - 87s 2ms/step - loss: 0.0533 - acc: 0.9798 - val_loss: 0.3185 - val_acc: 0.9211\n",
            "Epoch 13/20\n",
            "48000/48000 [==============================] - 87s 2ms/step - loss: 0.0480 - acc: 0.9815 - val_loss: 0.3512 - val_acc: 0.9167\n",
            "Epoch 14/20\n",
            "48000/48000 [==============================] - 87s 2ms/step - loss: 0.0411 - acc: 0.9840 - val_loss: 0.3732 - val_acc: 0.9167\n",
            "Epoch 15/20\n",
            "48000/48000 [==============================] - 88s 2ms/step - loss: 0.0390 - acc: 0.9854 - val_loss: 0.4300 - val_acc: 0.9113\n",
            "Epoch 16/20\n",
            "48000/48000 [==============================] - 88s 2ms/step - loss: 0.0375 - acc: 0.9859 - val_loss: 0.4002 - val_acc: 0.9163\n",
            "Epoch 17/20\n",
            "48000/48000 [==============================] - 87s 2ms/step - loss: 0.0328 - acc: 0.9879 - val_loss: 0.4876 - val_acc: 0.9134\n",
            "Epoch 18/20\n",
            "48000/48000 [==============================] - 87s 2ms/step - loss: 0.0347 - acc: 0.9871 - val_loss: 0.4198 - val_acc: 0.9137\n",
            "Epoch 19/20\n",
            "48000/48000 [==============================] - 87s 2ms/step - loss: 0.0218 - acc: 0.9922 - val_loss: 0.4884 - val_acc: 0.9177\n",
            "Epoch 20/20\n",
            "48000/48000 [==============================] - 88s 2ms/step - loss: 0.0330 - acc: 0.9879 - val_loss: 0.4775 - val_acc: 0.9167\n"
          ],
          "name": "stdout"
        }
      ]
    },
    {
      "cell_type": "code",
      "metadata": {
        "id": "7W34u5YMZWoe",
        "colab_type": "code",
        "outputId": "e773ebdc-3c7d-458b-dc34-6a7c1172e22c",
        "colab": {
          "base_uri": "https://localhost:8080/",
          "height": 51
        }
      },
      "source": [
        "#Model Evaluation in Test Set\n",
        "test_eval=fashion_model.evaluate(test_X,test_Y_one_hot,verbose=0)\n",
        "print('Test Loss: ',test_eval[0])\n",
        "print('Test Accuracy: ',test_eval[1])"
      ],
      "execution_count": 14,
      "outputs": [
        {
          "output_type": "stream",
          "text": [
            "Test Loss:  0.485125187512557\n",
            "Test Accuracy:  0.9107\n"
          ],
          "name": "stdout"
        }
      ]
    },
    {
      "cell_type": "code",
      "metadata": {
        "id": "WJzw-JW5jkVs",
        "colab_type": "code",
        "outputId": "371f71fa-5000-42a0-9e35-fabbc58a5414",
        "colab": {
          "base_uri": "https://localhost:8080/",
          "height": 545
        }
      },
      "source": [
        "accuracy=fashion_train.history['acc']\n",
        "val_accuracy=fashion_train.history['val_acc']\n",
        "loss=fashion_train.history['loss']\n",
        "val_loss=fashion_train.history['val_loss']\n",
        "epochs=range(len(accuracy))\n",
        "plt.plot(epochs,accuracy,'bo',label='Training Accuracy')\n",
        "plt.plot(epochs,val_accuracy,'b',label='Validadtion accuracy')\n",
        "plt.title('Training and Validation Accuracy')\n",
        "plt.legend()\n",
        "plt.figure()\n",
        "plt.plot(epochs,loss,'bo',label='Training Loss')\n",
        "plt.plot(epochs,val_loss,'b',label='Validation Loss')\n",
        "plt.title('Training and Validation Loss')\n",
        "plt.legend()\n",
        "plt.show()"
      ],
      "execution_count": 15,
      "outputs": [
        {
          "output_type": "display_data",
          "data": {
            "image/png": "[encoded data removed]",
            "text/plain": [
              "<Figure size 432x288 with 1 Axes>"
            ]
          },
          "metadata": {
            "tags": []
          }
        },
        {
          "output_type": "display_data",
          "data": {
            "image/png": "[encoded data removed]",
            "text/plain": [
              "<Figure size 432x288 with 1 Axes>"
            ]
          },
          "metadata": {
            "tags": []
          }
        }
      ]
    },
    {
      "cell_type": "code",
      "metadata": {
        "id": "DqXo-0Ogjo7s",
        "colab_type": "code",
        "colab": {
          "base_uri": "https://localhost:8080/",
          "height": 88
        },
        "outputId": "f5460641-8fdc-43ec-cb99-94c5d2563f33"
      },
      "source": [
        "#from the graphs above we can see that the model is probably overfitting (as val_accuracy remains constant after few epochs)\n",
        "#Adding Dropout to reduce overfitting\n",
        "\n",
        "'''\n",
        "New ConvNet Architecture\n",
        "INPUT\n",
        "CONV2D-32\n",
        "MAX_POOL2D\n",
        "##DROPOUT\n",
        "CONV2D-64\n",
        "MAX_POOL2D\n",
        "##DROPOUT\n",
        "CONV2D-128\n",
        "MAX_POOL2D\n",
        "##DROPOUT\n",
        "FLATTEN\n",
        "DENSE\n",
        "DROPOUT\n",
        "DENSE-SOFTMAX\n",
        "'''\n",
        "\n",
        "batch_size=64\n",
        "epochs=20\n",
        "num_classes=10\n",
        "\n",
        "fashion_model=Sequential()\n",
        "fashion_model.add(Conv2D(32,kernel_size=(3,3),activation='linear',input_shape=(28,28,1),padding='same'))\n",
        "fashion_model.add(LeakyReLU(alpha=0.1))\n",
        "fashion_model.add(MaxPooling2D((2,2),padding='same'))\n",
        "fashion_model.add(Dropout(0.25))\n",
        "fashion_model.add(Conv2D(64,(3,3),activation='linear',padding='same'))\n",
        "fashion_model.add(LeakyReLU(alpha=0.1))\n",
        "fashion_model.add(MaxPooling2D(pool_size=(2,2),padding='same'))\n",
        "fashion_model.add(Dropout(0.25))\n",
        "fashion_model.add(Conv2D(128,(3,3),activation='linear',padding='same'))\n",
        "fashion_model.add(LeakyReLU(alpha=0.1))\n",
        "fashion_model.add(MaxPooling2D(pool_size=(2,2),padding='same'))\n",
        "fashion_model.add(Dropout(0.4))\n",
        "fashion_model.add(Flatten())\n",
        "fashion_model.add(Dense(128,activation='linear'))\n",
        "fashion_model.add(LeakyReLU(alpha=0.1))\n",
        "fashion_model.add(Dropout(0.3))\n",
        "fashion_model.add(Dense(num_classes,activation='softmax'))"
      ],
      "execution_count": 16,
      "outputs": [
        {
          "output_type": "stream",
          "text": [
            "W0802 07:13:16.714603 139691651286912 deprecation.py:506] From /usr/local/lib/python3.6/dist-packages/keras/backend/tensorflow_backend.py:3445: calling dropout (from tensorflow.python.ops.nn_ops) with keep_prob is deprecated and will be removed in a future version.\n",
            "Instructions for updating:\n",
            "Please use `rate` instead of `keep_prob`. Rate should be set to `rate = 1 - keep_prob`.\n"
          ],
          "name": "stderr"
        }
      ]
    },
    {
      "cell_type": "code",
      "metadata": {
        "id": "i3rW8v2hLPN7",
        "colab_type": "code",
        "colab": {
          "base_uri": "https://localhost:8080/",
          "height": 714
        },
        "outputId": "8f963fb2-dcdd-4a4f-d103-a8ccb2546564"
      },
      "source": [
        "fashion_model.summary()"
      ],
      "execution_count": 17,
      "outputs": [
        {
          "output_type": "stream",
          "text": [
            "_________________________________________________________________\n",
            "Layer (type)                 Output Shape              Param #   \n",
            "=================================================================\n",
            "conv2d_4 (Conv2D)            (None, 28, 28, 32)        320       \n",
            "_________________________________________________________________\n",
            "leaky_re_lu_5 (LeakyReLU)    (None, 28, 28, 32)        0         \n",
            "_________________________________________________________________\n",
            "max_pooling2d_4 (MaxPooling2 (None, 14, 14, 32)        0         \n",
            "_________________________________________________________________\n",
            "dropout_1 (Dropout)          (None, 14, 14, 32)        0         \n",
            "_________________________________________________________________\n",
            "conv2d_5 (Conv2D)            (None, 14, 14, 64)        18496     \n",
            "_________________________________________________________________\n",
            "leaky_re_lu_6 (LeakyReLU)    (None, 14, 14, 64)        0         \n",
            "_________________________________________________________________\n",
            "max_pooling2d_5 (MaxPooling2 (None, 7, 7, 64)          0         \n",
            "_________________________________________________________________\n",
            "dropout_2 (Dropout)          (None, 7, 7, 64)          0         \n",
            "_________________________________________________________________\n",
            "conv2d_6 (Conv2D)            (None, 7, 7, 128)         73856     \n",
            "_________________________________________________________________\n",
            "leaky_re_lu_7 (LeakyReLU)    (None, 7, 7, 128)         0         \n",
            "_________________________________________________________________\n",
            "max_pooling2d_6 (MaxPooling2 (None, 4, 4, 128)         0         \n",
            "_________________________________________________________________\n",
            "dropout_3 (Dropout)          (None, 4, 4, 128)         0         \n",
            "_________________________________________________________________\n",
            "flatten_2 (Flatten)          (None, 2048)              0         \n",
            "_________________________________________________________________\n",
            "dense_3 (Dense)              (None, 128)               262272    \n",
            "_________________________________________________________________\n",
            "leaky_re_lu_8 (LeakyReLU)    (None, 128)               0         \n",
            "_________________________________________________________________\n",
            "dropout_4 (Dropout)          (None, 128)               0         \n",
            "_________________________________________________________________\n",
            "dense_4 (Dense)              (None, 10)                1290      \n",
            "=================================================================\n",
            "Total params: 356,234\n",
            "Trainable params: 356,234\n",
            "Non-trainable params: 0\n",
            "_________________________________________________________________\n"
          ],
          "name": "stdout"
        }
      ]
    },
    {
      "cell_type": "code",
      "metadata": {
        "id": "mM-tSWhDLR1o",
        "colab_type": "code",
        "colab": {}
      },
      "source": [
        "fashion_model.compile(loss=keras.losses.categorical_crossentropy,optimizer=keras.optimizers.Adam(),metrics=['accuracy'])"
      ],
      "execution_count": 0,
      "outputs": []
    },
    {
      "cell_type": "code",
      "metadata": {
        "id": "H6Uo4ruvLoga",
        "colab_type": "code",
        "colab": {
          "base_uri": "https://localhost:8080/",
          "height": 714
        },
        "outputId": "1d5fc5ed-96a5-4148-d95c-79571564bdc3"
      },
      "source": [
        "fashion_train_dropout=fashion_model.fit(train_X,train_label,batch_size=batch_size,epochs=epochs,verbose=1,validation_data=(valid_X,valid_label))"
      ],
      "execution_count": 19,
      "outputs": [
        {
          "output_type": "stream",
          "text": [
            "Train on 48000 samples, validate on 12000 samples\n",
            "Epoch 1/20\n",
            "48000/48000 [==============================] - 100s 2ms/step - loss: 0.5916 - acc: 0.7789 - val_loss: 0.3694 - val_acc: 0.8682\n",
            "Epoch 2/20\n",
            "48000/48000 [==============================] - 100s 2ms/step - loss: 0.3681 - acc: 0.8657 - val_loss: 0.2978 - val_acc: 0.8912\n",
            "Epoch 3/20\n",
            "48000/48000 [==============================] - 100s 2ms/step - loss: 0.3232 - acc: 0.8812 - val_loss: 0.2700 - val_acc: 0.8998\n",
            "Epoch 4/20\n",
            "48000/48000 [==============================] - 101s 2ms/step - loss: 0.2955 - acc: 0.8923 - val_loss: 0.2553 - val_acc: 0.9063\n",
            "Epoch 5/20\n",
            "48000/48000 [==============================] - 101s 2ms/step - loss: 0.2783 - acc: 0.8967 - val_loss: 0.2430 - val_acc: 0.9121\n",
            "Epoch 6/20\n",
            "48000/48000 [==============================] - 101s 2ms/step - loss: 0.2657 - acc: 0.9016 - val_loss: 0.2380 - val_acc: 0.9123\n",
            "Epoch 7/20\n",
            "48000/48000 [==============================] - 100s 2ms/step - loss: 0.2512 - acc: 0.9064 - val_loss: 0.2345 - val_acc: 0.9153\n",
            "Epoch 8/20\n",
            "48000/48000 [==============================] - 100s 2ms/step - loss: 0.2450 - acc: 0.9085 - val_loss: 0.2310 - val_acc: 0.9142\n",
            "Epoch 9/20\n",
            "48000/48000 [==============================] - 101s 2ms/step - loss: 0.2393 - acc: 0.9105 - val_loss: 0.2233 - val_acc: 0.9193\n",
            "Epoch 10/20\n",
            "48000/48000 [==============================] - 100s 2ms/step - loss: 0.2298 - acc: 0.9136 - val_loss: 0.2208 - val_acc: 0.9203\n",
            "Epoch 11/20\n",
            "48000/48000 [==============================] - 99s 2ms/step - loss: 0.2233 - acc: 0.9170 - val_loss: 0.2221 - val_acc: 0.9197\n",
            "Epoch 12/20\n",
            "48000/48000 [==============================] - 100s 2ms/step - loss: 0.2192 - acc: 0.9180 - val_loss: 0.2228 - val_acc: 0.9177\n",
            "Epoch 13/20\n",
            "48000/48000 [==============================] - 99s 2ms/step - loss: 0.2184 - acc: 0.9185 - val_loss: 0.2087 - val_acc: 0.9237\n",
            "Epoch 14/20\n",
            "48000/48000 [==============================] - 99s 2ms/step - loss: 0.2123 - acc: 0.9200 - val_loss: 0.2104 - val_acc: 0.9247\n",
            "Epoch 15/20\n",
            "48000/48000 [==============================] - 100s 2ms/step - loss: 0.2082 - acc: 0.9216 - val_loss: 0.2125 - val_acc: 0.9234\n",
            "Epoch 16/20\n",
            "48000/48000 [==============================] - 100s 2ms/step - loss: 0.2050 - acc: 0.9224 - val_loss: 0.2156 - val_acc: 0.9247\n",
            "Epoch 17/20\n",
            "48000/48000 [==============================] - 100s 2ms/step - loss: 0.2035 - acc: 0.9213 - val_loss: 0.2054 - val_acc: 0.9281\n",
            "Epoch 18/20\n",
            "48000/48000 [==============================] - 100s 2ms/step - loss: 0.2012 - acc: 0.9224 - val_loss: 0.2149 - val_acc: 0.9244\n",
            "Epoch 19/20\n",
            "48000/48000 [==============================] - 99s 2ms/step - loss: 0.1983 - acc: 0.9236 - val_loss: 0.2084 - val_acc: 0.9262\n",
            "Epoch 20/20\n",
            "48000/48000 [==============================] - 99s 2ms/step - loss: 0.1930 - acc: 0.9259 - val_loss: 0.2072 - val_acc: 0.9232\n"
          ],
          "name": "stdout"
        }
      ]
    },
    {
      "cell_type": "code",
      "metadata": {
        "id": "AmoKW5jeL8BR",
        "colab_type": "code",
        "colab": {}
      },
      "source": [
        "fashion_model.save('fashion_model_fropout.h5py')"
      ],
      "execution_count": 0,
      "outputs": []
    },
    {
      "cell_type": "code",
      "metadata": {
        "id": "1TvdGuLuTwGD",
        "colab_type": "code",
        "colab": {
          "base_uri": "https://localhost:8080/",
          "height": 34
        },
        "outputId": "dab58f3a-c50c-49ff-e2b3-c5a7d0888319"
      },
      "source": [
        "test_eval=fashion_model.evaluate(test_X,test_Y_one_hot,verbose=1)"
      ],
      "execution_count": 21,
      "outputs": [
        {
          "output_type": "stream",
          "text": [
            "10000/10000 [==============================] - 6s 552us/step\n"
          ],
          "name": "stdout"
        }
      ]
    },
    {
      "cell_type": "code",
      "metadata": {
        "id": "jJPY4LweUAjN",
        "colab_type": "code",
        "colab": {
          "base_uri": "https://localhost:8080/",
          "height": 51
        },
        "outputId": "37aa6e05-f458-471a-c8e2-72474f9f59da"
      },
      "source": [
        "print('Test Loss: ',test_eval[0])\n",
        "print('Test Accuracy: ',test_eval[1])"
      ],
      "execution_count": 22,
      "outputs": [
        {
          "output_type": "stream",
          "text": [
            "Test Loss:  0.21615435140132905\n",
            "Test Accuracy:  0.9215\n"
          ],
          "name": "stdout"
        }
      ]
    },
    {
      "cell_type": "code",
      "metadata": {
        "id": "yqAfGRnbUJaH",
        "colab_type": "code",
        "colab": {
          "base_uri": "https://localhost:8080/",
          "height": 545
        },
        "outputId": "46787f15-f523-49e2-f202-7f7077fd7015"
      },
      "source": [
        "accuracy=fashion_train_dropout.history['acc']\n",
        "val_accuracy=fashion_train_dropout.history['val_acc']\n",
        "loss=fashion_train_dropout.history['loss']\n",
        "val_loss=fashion_train_dropout.history['val_loss']\n",
        "epochs=range(len(accuracy))\n",
        "plt.plot(epochs,accuracy,'bo',label='Training Accuracy')\n",
        "plt.plot(epochs,val_accuracy,'b',label='Validadtion accuracy')\n",
        "plt.title('Training and Validation Accuracy')\n",
        "plt.legend()\n",
        "plt.figure()\n",
        "plt.plot(epochs,loss,'bo',label='Training Loss')\n",
        "plt.plot(epochs,val_loss,'b',label='Validation Loss')\n",
        "plt.title('Training and Validation Loss')\n",
        "plt.legend()\n",
        "plt.show()"
      ],
      "execution_count": 23,
      "outputs": [
        {
          "output_type": "display_data",
          "data": {
            "image/png": "[encoded data removed]",
            "text/plain": [
              "<Figure size 432x288 with 1 Axes>"
            ]
          },
          "metadata": {
            "tags": []
          }
        },
        {
          "output_type": "display_data",
          "data": {
            "image/png": "[encoded data removed]",
            "text/plain": [
              "<Figure size 432x288 with 1 Axes>"
            ]
          },
          "metadata": {
            "tags": []
          }
        }
      ]
    },
    {
      "cell_type": "code",
      "metadata": {
        "id": "5ta2xqbUUX6-",
        "colab_type": "code",
        "colab": {
          "base_uri": "https://localhost:8080/",
          "height": 34
        },
        "outputId": "539abad0-04f2-4616-b828-8dec0d86430b"
      },
      "source": [
        "#Dropout worked. val_accuracy and training accuracy follow similar curves\n",
        "#Predicting Labels\n",
        "\n",
        "predicted_classes=fashion_model.predict(test_X)\n",
        "predicted_classes=np.argmax(np.round(predicted_classes),axis=1)\n",
        "predicted_classes.shape,test_Y.shape"
      ],
      "execution_count": 25,
      "outputs": [
        {
          "output_type": "execute_result",
          "data": {
            "text/plain": [
              "((10000,), (10000,))"
            ]
          },
          "metadata": {
            "tags": []
          },
          "execution_count": 25
        }
      ]
    },
    {
      "cell_type": "code",
      "metadata": {
        "id": "k-UIDSZHU2gp",
        "colab_type": "code",
        "colab": {
          "base_uri": "https://localhost:8080/",
          "height": 314
        },
        "outputId": "323f10ea-e42c-499b-8fd8-5d93611d6f06"
      },
      "source": [
        "correct=np.where(predicted_classes==test_Y)[0]\n",
        "print('Found %d correct labels' %len(correct))\n",
        "for i,correct in enumerate(correct[:9]):\n",
        "  plt.subplot(3,3,i+1)\n",
        "  plt.imshow(test_X[correct].reshape(28,28),interpolation='none')\n",
        "  plt.title('Predicted {}, Class {}'.format(predicted_classes[correct],test_Y[correct]))\n",
        "  plt.tight_layout()"
      ],
      "execution_count": 26,
      "outputs": [
        {
          "output_type": "stream",
          "text": [
            "Found 9172 correct labels\n"
          ],
          "name": "stdout"
        },
        {
          "output_type": "display_data",
          "data": {
            "image/png": "[encoded data removed]",
            "text/plain": [
              "<Figure size 432x288 with 9 Axes>"
            ]
          },
          "metadata": {
            "tags": []
          }
        }
      ]
    },
    {
      "cell_type": "code",
      "metadata": {
        "id": "tJkhpYEJViLC",
        "colab_type": "code",
        "colab": {
          "base_uri": "https://localhost:8080/",
          "height": 314
        },
        "outputId": "a3e24dfc-f059-48d0-fae1-a704ae8db698"
      },
      "source": [
        "incorrect=np.where(predicted_classes!=test_Y)[0]\n",
        "print('Found %d incorrect labels' %len(incorrect))\n",
        "for i,incorrect in enumerate(incorrect[:9]):\n",
        "  plt.subplot(3,3,i+1)\n",
        "  plt.imshow(test_X[incorrect].reshape(28,28),interpolation='none')\n",
        "  plt.title('Predicted {}, Class {}'.format(predicted_classes[incorrect],test_Y[incorrect]))\n",
        "  plt.tight_layout()"
      ],
      "execution_count": 28,
      "outputs": [
        {
          "output_type": "stream",
          "text": [
            "Found 828 incorrect labels\n"
          ],
          "name": "stdout"
        },
        {
          "output_type": "display_data",
          "data": {
            "image/png": "[encoded data removed]",
            "text/plain": [
              "<Figure size 432x288 with 9 Axes>"
            ]
          },
          "metadata": {
            "tags": []
          }
        }
      ]
    },
    {
      "cell_type": "code",
      "metadata": {
        "id": "2IRxuVpPWJVF",
        "colab_type": "code",
        "colab": {
          "base_uri": "https://localhost:8080/",
          "height": 306
        },
        "outputId": "d37cdbeb-0490-473a-a31f-4a619a51664b"
      },
      "source": [
        "#Classification Metrics\n",
        "from sklearn.metrics import classification_report\n",
        "\n",
        "target_names=['Class {}'.format(i) for i in range(num_classes)]\n",
        "print(classification_report(test_Y,predicted_classes,target_names=target_names))"
      ],
      "execution_count": 29,
      "outputs": [
        {
          "output_type": "stream",
          "text": [
            "              precision    recall  f1-score   support\n",
            "\n",
            "     Class 0       0.77      0.92      0.83      1000\n",
            "     Class 1       0.99      0.99      0.99      1000\n",
            "     Class 2       0.86      0.89      0.87      1000\n",
            "     Class 3       0.94      0.90      0.92      1000\n",
            "     Class 4       0.87      0.88      0.88      1000\n",
            "     Class 5       0.99      0.99      0.99      1000\n",
            "     Class 6       0.85      0.68      0.76      1000\n",
            "     Class 7       0.95      0.98      0.97      1000\n",
            "     Class 8       0.99      0.98      0.99      1000\n",
            "     Class 9       0.99      0.95      0.97      1000\n",
            "\n",
            "    accuracy                           0.92     10000\n",
            "   macro avg       0.92      0.92      0.92     10000\n",
            "weighted avg       0.92      0.92      0.92     10000\n",
            "\n"
          ],
          "name": "stdout"
        }
      ]
    },
    {
      "cell_type": "code",
      "metadata": {
        "id": "CsYYZmJKWmGy",
        "colab_type": "code",
        "colab": {}
      },
      "source": [
        ""
      ],
      "execution_count": 0,
      "outputs": []
    }
  ]
}